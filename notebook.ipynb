{
 "cells": [
  {
   "cell_type": "code",
   "execution_count": 1,
   "metadata": {},
   "outputs": [
    {
     "name": "stderr",
     "output_type": "stream",
     "text": [
      "2023-05-07 09:06:00.218601: I tensorflow/core/platform/cpu_feature_guard.cc:193] This TensorFlow binary is optimized with oneAPI Deep Neural Network Library (oneDNN) to use the following CPU instructions in performance-critical operations:  AVX2\n",
      "To enable them in other operations, rebuild TensorFlow with the appropriate compiler flags.\n",
      "2023-05-07 09:06:00.730390: W tensorflow/compiler/xla/stream_executor/platform/default/dso_loader.cc:64] Could not load dynamic library 'libcudart.so.11.0'; dlerror: libcudart.so.11.0: cannot open shared object file: No such file or directory\n",
      "2023-05-07 09:06:00.730407: I tensorflow/compiler/xla/stream_executor/cuda/cudart_stub.cc:29] Ignore above cudart dlerror if you do not have a GPU set up on your machine.\n",
      "2023-05-07 09:06:01.821011: W tensorflow/compiler/xla/stream_executor/platform/default/dso_loader.cc:64] Could not load dynamic library 'libnvinfer.so.7'; dlerror: libnvinfer.so.7: cannot open shared object file: No such file or directory\n",
      "2023-05-07 09:06:01.821133: W tensorflow/compiler/xla/stream_executor/platform/default/dso_loader.cc:64] Could not load dynamic library 'libnvinfer_plugin.so.7'; dlerror: libnvinfer_plugin.so.7: cannot open shared object file: No such file or directory\n",
      "2023-05-07 09:06:01.821140: W tensorflow/compiler/tf2tensorrt/utils/py_utils.cc:38] TF-TRT Warning: Cannot dlopen some TensorRT libraries. If you would like to use Nvidia GPU with TensorRT, please make sure the missing libraries mentioned above are installed properly.\n"
     ]
    }
   ],
   "source": [
    "import numpy as np\n",
    "import pandas as pd\n",
    "import tensorflow as tf\n",
    "\n",
    "from tensorflow.keras import layers"
   ]
  },
  {
   "cell_type": "code",
   "execution_count": 2,
   "metadata": {},
   "outputs": [],
   "source": [
    "import matplotlib.pyplot as plt"
   ]
  },
  {
   "cell_type": "code",
   "execution_count": 396,
   "metadata": {},
   "outputs": [],
   "source": [
    "csv_file = './va_temps.csv'\n",
    "dataframe = pd.read_csv(csv_file)"
   ]
  },
  {
   "cell_type": "code",
   "execution_count": 397,
   "metadata": {},
   "outputs": [],
   "source": [
    "dataframe = dataframe.drop(['Region', 'Country', 'State'], axis=1)\n",
    "\n",
    "# leave just month\n",
    "#dataframe = dataframe.drop(['City', 'Day', 'Year'], axis=1)"
   ]
  },
  {
   "cell_type": "code",
   "execution_count": 336,
   "metadata": {},
   "outputs": [
    {
     "data": {
      "text/html": [
       "<div>\n",
       "<style scoped>\n",
       "    .dataframe tbody tr th:only-of-type {\n",
       "        vertical-align: middle;\n",
       "    }\n",
       "\n",
       "    .dataframe tbody tr th {\n",
       "        vertical-align: top;\n",
       "    }\n",
       "\n",
       "    .dataframe thead th {\n",
       "        text-align: right;\n",
       "    }\n",
       "</style>\n",
       "<table border=\"1\" class=\"dataframe\">\n",
       "  <thead>\n",
       "    <tr style=\"text-align: right;\">\n",
       "      <th></th>\n",
       "      <th>count</th>\n",
       "      <th>mean</th>\n",
       "      <th>std</th>\n",
       "      <th>min</th>\n",
       "      <th>25%</th>\n",
       "      <th>50%</th>\n",
       "      <th>75%</th>\n",
       "      <th>max</th>\n",
       "    </tr>\n",
       "  </thead>\n",
       "  <tbody>\n",
       "    <tr>\n",
       "      <th>Month</th>\n",
       "      <td>27795.0</td>\n",
       "      <td>6.468322</td>\n",
       "      <td>3.456911</td>\n",
       "      <td>1.0</td>\n",
       "      <td>3.0</td>\n",
       "      <td>6.0</td>\n",
       "      <td>9.0</td>\n",
       "      <td>12.0</td>\n",
       "    </tr>\n",
       "    <tr>\n",
       "      <th>AvgTemperature</th>\n",
       "      <td>27795.0</td>\n",
       "      <td>58.781194</td>\n",
       "      <td>17.474228</td>\n",
       "      <td>-99.0</td>\n",
       "      <td>46.1</td>\n",
       "      <td>60.4</td>\n",
       "      <td>73.3</td>\n",
       "      <td>93.5</td>\n",
       "    </tr>\n",
       "  </tbody>\n",
       "</table>\n",
       "</div>"
      ],
      "text/plain": [
       "                  count       mean        std   min   25%   50%   75%   max\n",
       "Month           27795.0   6.468322   3.456911   1.0   3.0   6.0   9.0  12.0\n",
       "AvgTemperature  27795.0  58.781194  17.474228 -99.0  46.1  60.4  73.3  93.5"
      ]
     },
     "execution_count": 336,
     "metadata": {},
     "output_type": "execute_result"
    }
   ],
   "source": [
    "dataframe.describe().transpose()"
   ]
  },
  {
   "cell_type": "code",
   "execution_count": 398,
   "metadata": {},
   "outputs": [],
   "source": [
    "temp_features = dataframe.copy()\n",
    "temp_labels = temp_features.pop('AvgTemperature')"
   ]
  },
  {
   "cell_type": "code",
   "execution_count": 399,
   "metadata": {},
   "outputs": [
    {
     "data": {
      "text/plain": [
       "{'City': <KerasTensor: shape=(None, 1) dtype=string (created by layer 'City')>,\n",
       " 'Month': <KerasTensor: shape=(None, 1) dtype=int64 (created by layer 'Month')>,\n",
       " 'Day': <KerasTensor: shape=(None, 1) dtype=int64 (created by layer 'Day')>,\n",
       " 'Year': <KerasTensor: shape=(None, 1) dtype=int64 (created by layer 'Year')>}"
      ]
     },
     "execution_count": 399,
     "metadata": {},
     "output_type": "execute_result"
    }
   ],
   "source": [
    "inputs = {}\n",
    "\n",
    "# after this, try treating Year as a normalized numeric value rather than a category encoding\n",
    "\n",
    "for name, column in temp_features.items():\n",
    "  dtype = column.dtype\n",
    "  if dtype == object:\n",
    "    dtype = tf.string\n",
    "  else:\n",
    "    dtype = tf.int64\n",
    "\n",
    "  inputs[name] = tf.keras.Input(shape=(1,), name=name, dtype=dtype)\n",
    "\n",
    "inputs"
   ]
  },
  {
   "cell_type": "code",
   "execution_count": 8,
   "metadata": {},
   "outputs": [],
   "source": [
    "#inputs = {}\n",
    "#inputs['City'] = tf.keras.Input(shape=(1,), name=name, dtype=tf.string)"
   ]
  },
  {
   "cell_type": "code",
   "execution_count": 402,
   "metadata": {},
   "outputs": [
    {
     "data": {
      "text/plain": [
       "[<KerasTensor: shape=(None, 1) dtype=float32 (created by layer 'normalization_11')>,\n",
       " <KerasTensor: shape=(None, 4) dtype=float32 (created by layer 'category_encoding_33')>,\n",
       " <KerasTensor: shape=(None, 13) dtype=float32 (created by layer 'category_encoding_34')>,\n",
       " <KerasTensor: shape=(None, 32) dtype=float32 (created by layer 'category_encoding_35')>]"
      ]
     },
     "execution_count": 402,
     "metadata": {},
     "output_type": "execute_result"
    }
   ],
   "source": [
    "#preprocessed_inputs = []\n",
    "\n",
    "numeric_inputs = {name:input for name,input in inputs.items()\n",
    "                  if input.name == 'Year'}\n",
    "x = layers.Concatenate()(list(numeric_inputs.values()))\n",
    "norm = layers.Normalization()\n",
    "norm.adapt(np.array(dataframe[numeric_inputs.keys()]))\n",
    "all_numeric_inputs = norm(x)\n",
    "\n",
    "all_numeric_inputs\n",
    "\n",
    "preprocessed_inputs = [all_numeric_inputs]\n",
    "\n",
    "for name, input in inputs.items():\n",
    "  if input.name == 'Year': continue\n",
    "  if input.dtype == 'int64':\n",
    "    lookup = layers.IntegerLookup(vocabulary=np.unique(temp_features[name]))\n",
    "  else:\n",
    "    lookup = layers.StringLookup(vocabulary=np.unique(temp_features[name]))\n",
    "  one_hot = layers.CategoryEncoding(num_tokens=lookup.vocabulary_size())\n",
    "\n",
    "  x = lookup(input)\n",
    "  x = one_hot(x)\n",
    "  preprocessed_inputs.append(x)\n",
    "\n",
    "preprocessed_inputs"
   ]
  },
  {
   "cell_type": "code",
   "execution_count": 401,
   "metadata": {},
   "outputs": [
    {
     "data": {
      "text/plain": [
       "[<KerasTensor: shape=(None, 4) dtype=float32 (created by layer 'category_encoding_30')>,\n",
       " <KerasTensor: shape=(None, 13) dtype=float32 (created by layer 'category_encoding_31')>,\n",
       " <KerasTensor: shape=(None, 32) dtype=float32 (created by layer 'category_encoding_32')>]"
      ]
     },
     "execution_count": 401,
     "metadata": {},
     "output_type": "execute_result"
    }
   ],
   "source": [
    "# month only\n",
    "preprocessed_inputs = []\n",
    "\n",
    "for name, input in inputs.items():\n",
    "  if input.name == 'Year': continue\n",
    "  if input.dtype == 'int64':\n",
    "    lookup = layers.IntegerLookup(vocabulary=np.unique(temp_features[name]))\n",
    "  else:\n",
    "    lookup = layers.StringLookup(vocabulary=np.unique(temp_features[name]))\n",
    "  one_hot = layers.CategoryEncoding(num_tokens=lookup.vocabulary_size())\n",
    "\n",
    "  x = lookup(input)\n",
    "  x = one_hot(x)\n",
    "  preprocessed_inputs.append(x)\n",
    "\n",
    "preprocessed_inputs"
   ]
  },
  {
   "cell_type": "code",
   "execution_count": 403,
   "metadata": {},
   "outputs": [
    {
     "data": {
      "image/png": "[encoded data removed]",
      "text/plain": [
       "<IPython.core.display.Image object>"
      ]
     },
     "execution_count": 403,
     "metadata": {},
     "output_type": "execute_result"
    }
   ],
   "source": [
    "preprocessed_inputs_cat = layers.Concatenate()(preprocessed_inputs)\n",
    "temp_preprocessing = tf.keras.Model(inputs, preprocessed_inputs_cat)\n",
    "tf.keras.utils.plot_model(model = temp_preprocessing, rankdir=\"LR\", dpi=72, show_shapes=True)"
   ]
  },
  {
   "cell_type": "code",
   "execution_count": 404,
   "metadata": {},
   "outputs": [],
   "source": [
    "temp_features_dict = {name: np.array(value) \n",
    "                         for name, value in temp_features.items()}"
   ]
  },
  {
   "cell_type": "code",
   "execution_count": 405,
   "metadata": {},
   "outputs": [
    {
     "data": {
      "text/plain": [
       "<tf.Tensor: shape=(1, 50), dtype=float32, numpy=\n",
       "array([[-1.6637644,  0.       ,  1.       ,  0.       ,  0.       ,\n",
       "         0.       ,  1.       ,  0.       ,  0.       ,  0.       ,\n",
       "         0.       ,  0.       ,  0.       ,  0.       ,  0.       ,\n",
       "         0.       ,  0.       ,  0.       ,  0.       ,  1.       ,\n",
       "         0.       ,  0.       ,  0.       ,  0.       ,  0.       ,\n",
       "         0.       ,  0.       ,  0.       ,  0.       ,  0.       ,\n",
       "         0.       ,  0.       ,  0.       ,  0.       ,  0.       ,\n",
       "         0.       ,  0.       ,  0.       ,  0.       ,  0.       ,\n",
       "         0.       ,  0.       ,  0.       ,  0.       ,  0.       ,\n",
       "         0.       ,  0.       ,  0.       ,  0.       ,  0.       ]],\n",
       "      dtype=float32)>"
      ]
     },
     "execution_count": 405,
     "metadata": {},
     "output_type": "execute_result"
    }
   ],
   "source": [
    "# just as a test, grab one row of features and run it through the preprocessing to see the shape output\n",
    "features_dict = {name:values[:1] for name, values in temp_features_dict.items()}\n",
    "temp_preprocessing(features_dict)"
   ]
  },
  {
   "cell_type": "code",
   "execution_count": 190,
   "metadata": {},
   "outputs": [],
   "source": [
    "# DNN \n",
    "def create_temp_model(preprocessing_head, inputs):\n",
    "  body = tf.keras.Sequential([\n",
    "    layers.Dense(64, activation='relu'),\n",
    "    layers.Dense(64, activation='relu'),\n",
    "    layers.Dense(1)\n",
    "  ])\n",
    "\n",
    "  preprocessed_inputs = preprocessing_head(inputs)\n",
    "  result = body(preprocessed_inputs)\n",
    "  model = tf.keras.Model(inputs, result)\n",
    "\n",
    "  model.compile(loss='mean_absolute_error',\n",
    "                optimizer=tf.keras.optimizers.Adam(learning_rate=0.001))\n",
    "  return model\n",
    "\n",
    "temp_model = create_temp_model(temp_preprocessing, inputs)"
   ]
  },
  {
   "cell_type": "code",
   "execution_count": 416,
   "metadata": {},
   "outputs": [],
   "source": [
    "# linear \n",
    "def create_temp_model(preprocessing_head, inputs):\n",
    "  body = tf.keras.Sequential([\n",
    "    layers.Dense(1)\n",
    "  ])\n",
    "\n",
    "  preprocessed_inputs = preprocessing_head(inputs)\n",
    "  result = body(preprocessed_inputs)\n",
    "  model = tf.keras.Model(inputs, result)\n",
    "\n",
    "  model.compile(loss='mean_absolute_error',\n",
    "                optimizer=tf.keras.optimizers.Adam(learning_rate=0.1))\n",
    "  return model\n",
    "\n",
    "temp_model = create_temp_model(temp_preprocessing, inputs)"
   ]
  },
  {
   "cell_type": "code",
   "execution_count": 417,
   "metadata": {},
   "outputs": [
    {
     "name": "stdout",
     "output_type": "stream",
     "text": [
      "Epoch 1/10\n",
      "695/695 [==============================] - 1s 1ms/step - loss: 8.7949 - val_loss: 6.8649\n",
      "Epoch 2/10\n",
      "695/695 [==============================] - 1s 1ms/step - loss: 6.6413 - val_loss: 6.3532\n",
      "Epoch 3/10\n",
      "695/695 [==============================] - 1s 1ms/step - loss: 6.6092 - val_loss: 6.2084\n",
      "Epoch 4/10\n",
      "695/695 [==============================] - 1s 962us/step - loss: 6.6186 - val_loss: 6.4379\n",
      "Epoch 5/10\n",
      "695/695 [==============================] - 1s 999us/step - loss: 6.5855 - val_loss: 6.1976\n",
      "Epoch 6/10\n",
      "695/695 [==============================] - 1s 1ms/step - loss: 6.6241 - val_loss: 6.1953\n",
      "Epoch 7/10\n",
      "695/695 [==============================] - 1s 1ms/step - loss: 6.5889 - val_loss: 6.2384\n",
      "Epoch 8/10\n",
      "695/695 [==============================] - 1s 1ms/step - loss: 6.6061 - val_loss: 6.2176\n",
      "Epoch 9/10\n",
      "695/695 [==============================] - 1s 904us/step - loss: 6.6389 - val_loss: 6.3376\n",
      "Epoch 10/10\n",
      "695/695 [==============================] - 1s 897us/step - loss: 6.5763 - val_loss: 6.2117\n"
     ]
    }
   ],
   "source": [
    "history = temp_model.fit(x=temp_features_dict, y=temp_labels, epochs=10, validation_split = 0.2)"
   ]
  },
  {
   "cell_type": "code",
   "execution_count": 418,
   "metadata": {},
   "outputs": [
    {
     "data": {
      "image/png": "[encoded data removed]",
      "text/plain": [
       "<Figure size 640x480 with 1 Axes>"
      ]
     },
     "metadata": {},
     "output_type": "display_data"
    }
   ],
   "source": [
    "def plot_loss(history):\n",
    "  plt.plot(history.history['loss'], label='loss')\n",
    "  plt.plot(history.history['val_loss'], label='val_loss')\n",
    "  plt.ylim([0, 30])\n",
    "  plt.xlabel('Epoch')\n",
    "  plt.ylabel('Error [AvgTemp]')\n",
    "  plt.legend()\n",
    "  plt.grid(True)\n",
    "\n",
    "plot_loss(history)"
   ]
  },
  {
   "cell_type": "code",
   "execution_count": 419,
   "metadata": {},
   "outputs": [
    {
     "name": "stdout",
     "output_type": "stream",
     "text": [
      "{'City': array(['Norfolk', 'Norfolk', 'Norfolk', 'Norfolk', 'Norfolk', 'Norfolk',\n",
      "       'Norfolk', 'Norfolk', 'Norfolk', 'Norfolk', 'Norfolk', 'Norfolk',\n",
      "       'Norfolk', 'Norfolk', 'Norfolk', 'Norfolk', 'Norfolk', 'Norfolk',\n",
      "       'Norfolk', 'Norfolk', 'Norfolk', 'Norfolk', 'Norfolk', 'Norfolk',\n",
      "       'Norfolk', 'Norfolk', 'Norfolk', 'Norfolk', 'Norfolk', 'Norfolk',\n",
      "       'Norfolk', 'Norfolk', 'Norfolk', 'Norfolk', 'Norfolk', 'Norfolk',\n",
      "       'Norfolk', 'Norfolk', 'Norfolk', 'Norfolk', 'Norfolk', 'Norfolk',\n",
      "       'Norfolk', 'Norfolk', 'Norfolk', 'Norfolk', 'Norfolk', 'Norfolk',\n",
      "       'Norfolk', 'Norfolk', 'Norfolk', 'Norfolk', 'Norfolk', 'Norfolk',\n",
      "       'Norfolk', 'Norfolk', 'Norfolk', 'Norfolk', 'Norfolk', 'Norfolk',\n",
      "       'Norfolk', 'Norfolk', 'Norfolk', 'Norfolk', 'Norfolk', 'Norfolk',\n",
      "       'Norfolk', 'Norfolk', 'Norfolk', 'Norfolk', 'Norfolk', 'Norfolk',\n",
      "       'Norfolk', 'Norfolk', 'Norfolk', 'Norfolk', 'Norfolk', 'Norfolk',\n",
      "       'Norfolk', 'Norfolk', 'Norfolk', 'Norfolk', 'Norfolk', 'Norfolk',\n",
      "       'Norfolk', 'Norfolk', 'Norfolk', 'Norfolk', 'Norfolk', 'Norfolk',\n",
      "       'Norfolk', 'Norfolk', 'Norfolk', 'Norfolk', 'Norfolk', 'Norfolk',\n",
      "       'Norfolk', 'Norfolk', 'Norfolk', 'Norfolk', 'Norfolk', 'Norfolk',\n",
      "       'Norfolk', 'Norfolk', 'Norfolk', 'Norfolk', 'Norfolk', 'Norfolk',\n",
      "       'Norfolk', 'Norfolk', 'Norfolk', 'Norfolk', 'Norfolk', 'Norfolk',\n",
      "       'Norfolk', 'Norfolk', 'Norfolk', 'Norfolk', 'Norfolk', 'Norfolk',\n",
      "       'Norfolk', 'Norfolk', 'Norfolk', 'Norfolk', 'Norfolk', 'Norfolk',\n",
      "       'Norfolk', 'Norfolk', 'Norfolk', 'Norfolk', 'Norfolk', 'Norfolk',\n",
      "       'Norfolk', 'Norfolk', 'Norfolk', 'Norfolk', 'Norfolk', 'Norfolk',\n",
      "       'Norfolk', 'Norfolk', 'Norfolk', 'Norfolk', 'Norfolk', 'Norfolk',\n",
      "       'Norfolk', 'Norfolk', 'Norfolk', 'Norfolk', 'Norfolk', 'Norfolk',\n",
      "       'Norfolk', 'Norfolk', 'Norfolk', 'Norfolk', 'Norfolk', 'Norfolk',\n",
      "       'Norfolk', 'Norfolk', 'Norfolk', 'Norfolk', 'Norfolk', 'Norfolk',\n",
      "       'Norfolk', 'Norfolk', 'Norfolk', 'Norfolk', 'Norfolk', 'Norfolk',\n",
      "       'Norfolk', 'Norfolk', 'Norfolk', 'Norfolk', 'Norfolk', 'Norfolk',\n",
      "       'Norfolk', 'Norfolk', 'Norfolk', 'Norfolk', 'Norfolk', 'Norfolk',\n",
      "       'Norfolk', 'Norfolk', 'Norfolk', 'Norfolk', 'Norfolk', 'Norfolk',\n",
      "       'Norfolk', 'Norfolk', 'Norfolk', 'Norfolk', 'Norfolk', 'Norfolk',\n",
      "       'Norfolk', 'Norfolk', 'Norfolk', 'Norfolk', 'Norfolk', 'Norfolk',\n",
      "       'Norfolk', 'Norfolk', 'Norfolk', 'Norfolk', 'Norfolk', 'Norfolk',\n",
      "       'Norfolk', 'Norfolk', 'Norfolk', 'Norfolk', 'Norfolk', 'Norfolk',\n",
      "       'Norfolk', 'Norfolk', 'Norfolk', 'Norfolk', 'Norfolk', 'Norfolk',\n",
      "       'Norfolk', 'Norfolk', 'Norfolk', 'Norfolk', 'Norfolk', 'Norfolk',\n",
      "       'Norfolk', 'Norfolk', 'Norfolk', 'Norfolk', 'Norfolk', 'Norfolk',\n",
      "       'Norfolk', 'Norfolk', 'Norfolk', 'Norfolk', 'Norfolk', 'Norfolk',\n",
      "       'Norfolk', 'Norfolk', 'Norfolk', 'Norfolk', 'Norfolk', 'Norfolk',\n",
      "       'Norfolk', 'Norfolk', 'Norfolk', 'Norfolk', 'Norfolk', 'Norfolk',\n",
      "       'Norfolk', 'Norfolk', 'Norfolk', 'Norfolk', 'Norfolk', 'Norfolk',\n",
      "       'Norfolk', 'Norfolk', 'Norfolk', 'Norfolk', 'Norfolk', 'Norfolk',\n",
      "       'Norfolk', 'Norfolk', 'Norfolk', 'Norfolk', 'Norfolk', 'Norfolk',\n",
      "       'Norfolk', 'Norfolk', 'Norfolk', 'Norfolk', 'Norfolk', 'Norfolk',\n",
      "       'Norfolk', 'Norfolk', 'Norfolk', 'Norfolk', 'Norfolk', 'Norfolk',\n",
      "       'Norfolk', 'Norfolk', 'Norfolk', 'Norfolk', 'Norfolk', 'Norfolk',\n",
      "       'Norfolk', 'Norfolk', 'Norfolk', 'Norfolk', 'Norfolk', 'Norfolk',\n",
      "       'Norfolk', 'Norfolk', 'Norfolk', 'Norfolk', 'Norfolk', 'Norfolk',\n",
      "       'Norfolk', 'Norfolk', 'Norfolk', 'Norfolk', 'Norfolk', 'Norfolk',\n",
      "       'Norfolk', 'Norfolk', 'Norfolk', 'Norfolk', 'Norfolk', 'Norfolk',\n",
      "       'Norfolk', 'Norfolk', 'Norfolk', 'Norfolk', 'Norfolk', 'Norfolk',\n",
      "       'Norfolk', 'Norfolk', 'Norfolk', 'Norfolk', 'Norfolk', 'Norfolk',\n",
      "       'Norfolk', 'Norfolk', 'Norfolk', 'Norfolk', 'Norfolk', 'Norfolk',\n",
      "       'Norfolk', 'Norfolk', 'Norfolk', 'Norfolk', 'Norfolk', 'Norfolk',\n",
      "       'Norfolk', 'Norfolk', 'Norfolk', 'Norfolk', 'Norfolk', 'Norfolk',\n",
      "       'Norfolk', 'Norfolk', 'Norfolk', 'Norfolk', 'Norfolk', 'Norfolk',\n",
      "       'Norfolk', 'Norfolk', 'Norfolk', 'Norfolk', 'Norfolk', 'Norfolk',\n",
      "       'Norfolk', 'Norfolk', 'Norfolk', 'Norfolk', 'Norfolk', 'Norfolk',\n",
      "       'Norfolk', 'Norfolk', 'Norfolk', 'Norfolk', 'Norfolk', 'Norfolk',\n",
      "       'Norfolk', 'Norfolk', 'Norfolk', 'Norfolk', 'Norfolk', 'Norfolk',\n",
      "       'Norfolk', 'Norfolk', 'Norfolk', 'Norfolk', 'Norfolk', 'Norfolk',\n",
      "       'Norfolk', 'Norfolk', 'Norfolk', 'Norfolk', 'Norfolk', 'Norfolk',\n",
      "       'Norfolk', 'Norfolk', 'Norfolk', 'Norfolk', 'Norfolk', 'Norfolk',\n",
      "       'Norfolk', 'Norfolk', 'Norfolk', 'Norfolk', 'Norfolk', 'Norfolk',\n",
      "       'Norfolk', 'Norfolk', 'Norfolk', 'Norfolk', 'Norfolk', 'Norfolk',\n",
      "       'Norfolk', 'Norfolk', 'Norfolk', 'Norfolk'], dtype=object), 'Month': array([ 1,  1,  1,  1,  1,  1,  1,  1,  1,  1,  1,  1,  1,  1,  1,  1,  1,\n",
      "        1,  1,  1,  1,  1,  1,  1,  1,  1,  1,  1,  1,  2,  2,  2,  2,  2,\n",
      "        2,  2,  2,  2,  2,  2,  2,  2,  2,  2,  2,  2,  2,  2,  2,  2,  2,\n",
      "        2,  2,  2,  2,  2,  2,  3,  3,  3,  3,  3,  3,  3,  3,  3,  3,  3,\n",
      "        3,  3,  3,  3,  3,  3,  3,  3,  3,  3,  3,  3,  3,  3,  3,  3,  3,\n",
      "        3,  3,  3,  4,  4,  4,  4,  4,  4,  4,  4,  4,  4,  4,  4,  4,  4,\n",
      "        4,  4,  4,  4,  4,  4,  4,  4,  4,  4,  4,  4,  4,  4,  4,  4,  5,\n",
      "        5,  5,  5,  5,  5,  5,  5,  5,  5,  5,  5,  5,  5,  5,  5,  5,  5,\n",
      "        5,  5,  5,  5,  5,  5,  5,  5,  5,  5,  5,  5,  5,  6,  6,  6,  6,\n",
      "        6,  6,  6,  6,  6,  6,  6,  6,  6,  6,  6,  6,  6,  6,  6,  6,  6,\n",
      "        6,  6,  6,  6,  6,  6,  6,  6,  6,  7,  7,  7,  7,  7,  7,  7,  7,\n",
      "        7,  7,  7,  7,  7,  7,  7,  7,  7,  7,  7,  7,  7,  7,  7,  7,  7,\n",
      "        7,  7,  7,  7,  7,  7,  8,  8,  8,  8,  8,  8,  8,  8,  8,  8,  8,\n",
      "        8,  8,  8,  8,  8,  8,  8,  8,  8,  8,  8,  8,  8,  8,  8,  8,  8,\n",
      "        8,  8,  8,  9,  9,  9,  9,  9,  9,  9,  9,  9,  9,  9,  9,  9,  9,\n",
      "        9,  9,  9,  9,  9,  9,  9,  9,  9,  9,  9,  9,  9,  9,  9,  9, 10,\n",
      "       10, 10, 10, 10, 10, 10, 10, 10, 10, 10, 10, 10, 10, 10, 10, 10, 10,\n",
      "       10, 10, 10, 10, 10, 10, 10, 10, 10, 10, 10, 10, 10, 11, 11, 11, 11,\n",
      "       11, 11, 11, 11, 11, 11, 11, 11, 11, 11, 11, 11, 11, 11, 11, 11, 11,\n",
      "       11, 11, 11, 11, 11, 11, 11, 11, 11, 12, 12, 12, 12, 12, 12, 12, 12,\n",
      "       12, 12, 12, 12, 12, 12, 12, 12, 12, 12, 12, 12, 12, 12, 12, 12, 12,\n",
      "       12, 12, 12, 12, 12, 12,  1,  1,  1,  1,  1,  1,  1,  1,  1,  1,  1,\n",
      "        1,  1,  1,  1,  1,  1,  1,  1,  1,  1,  1,  1,  1,  1,  1,  1,  1,\n",
      "        1,  1,  1,  2,  2,  2,  2,  2,  2]), 'Day': array([ 3,  4,  5,  6,  7,  8,  9, 10, 11, 12, 13, 14, 15, 16, 17, 18, 19,\n",
      "       20, 21, 22, 23, 24, 25, 26, 27, 28, 29, 30, 31,  1,  2,  3,  4,  5,\n",
      "        6,  7,  8,  9, 10, 11, 12, 13, 14, 15, 16, 17, 18, 19, 20, 21, 22,\n",
      "       23, 24, 25, 26, 27, 28,  1,  2,  3,  4,  5,  6,  7,  8,  9, 10, 11,\n",
      "       12, 13, 14, 15, 16, 17, 18, 19, 20, 21, 22, 23, 24, 25, 26, 27, 28,\n",
      "       29, 30, 31,  1,  2,  3,  4,  5,  6,  7,  8,  9, 10, 11, 12, 13, 14,\n",
      "       15, 16, 17, 18, 19, 20, 21, 22, 23, 24, 25, 26, 27, 28, 29, 30,  1,\n",
      "        2,  3,  4,  5,  6,  7,  8,  9, 10, 11, 12, 13, 14, 15, 16, 17, 18,\n",
      "       19, 20, 21, 22, 23, 24, 25, 26, 27, 28, 29, 30, 31,  1,  2,  3,  4,\n",
      "        5,  6,  7,  8,  9, 10, 11, 12, 13, 14, 15, 16, 17, 18, 19, 20, 21,\n",
      "       22, 23, 24, 25, 26, 27, 28, 29, 30,  1,  2,  3,  4,  5,  6,  7,  8,\n",
      "        9, 10, 11, 12, 13, 14, 15, 16, 17, 18, 19, 20, 21, 22, 23, 24, 25,\n",
      "       26, 27, 28, 29, 30, 31,  1,  2,  3,  4,  5,  6,  7,  8,  9, 10, 11,\n",
      "       12, 13, 14, 15, 16, 17, 18, 19, 20, 21, 22, 23, 24, 25, 26, 27, 28,\n",
      "       29, 30, 31,  1,  2,  3,  4,  5,  6,  7,  8,  9, 10, 11, 12, 13, 14,\n",
      "       15, 16, 17, 18, 19, 20, 21, 22, 23, 24, 25, 26, 27, 28, 29, 30,  1,\n",
      "        2,  3,  4,  5,  6,  7,  8,  9, 10, 11, 12, 13, 14, 15, 16, 17, 18,\n",
      "       19, 20, 21, 22, 23, 24, 25, 26, 27, 28, 29, 30, 31,  1,  2,  3,  4,\n",
      "        5,  6,  7,  8,  9, 10, 11, 12, 13, 14, 15, 16, 17, 18, 19, 20, 21,\n",
      "       22, 23, 24, 25, 26, 27, 28, 29, 30,  1,  2,  3,  4,  5,  6,  7,  8,\n",
      "        9, 10, 11, 12, 13, 14, 15, 16, 17, 18, 19, 20, 21, 22, 23, 24, 25,\n",
      "       26, 27, 28, 29, 30, 31,  1,  2,  3,  4,  5,  6,  7,  8,  9, 10, 11,\n",
      "       12, 13, 14, 15, 16, 17, 18, 19, 20, 21, 22, 23, 24, 25, 26, 27, 28,\n",
      "       29, 30, 31,  1,  2,  3,  4,  5,  6]), 'Year': array([2023, 2023, 2023, 2023, 2023, 2023, 2023, 2023, 2023, 2023, 2023,\n",
      "       2023, 2023, 2023, 2023, 2023, 2023, 2023, 2023, 2023, 2023, 2023,\n",
      "       2023, 2023, 2023, 2023, 2023, 2023, 2023, 2023, 2023, 2023, 2023,\n",
      "       2023, 2023, 2023, 2023, 2023, 2023, 2023, 2023, 2023, 2023, 2023,\n",
      "       2023, 2023, 2023, 2023, 2023, 2023, 2023, 2023, 2023, 2023, 2023,\n",
      "       2023, 2023, 2023, 2023, 2023, 2023, 2023, 2023, 2023, 2023, 2023,\n",
      "       2023, 2023, 2023, 2023, 2023, 2023, 2023, 2023, 2023, 2023, 2023,\n",
      "       2023, 2023, 2023, 2023, 2023, 2023, 2023, 2023, 2023, 2023, 2023,\n",
      "       2023, 2023, 2023, 2023, 2023, 2023, 2023, 2023, 2023, 2023, 2023,\n",
      "       2023, 2023, 2023, 2023, 2023, 2023, 2023, 2023, 2023, 2023, 2023,\n",
      "       2023, 2023, 2023, 2023, 2023, 2023, 2023, 2023, 2023, 2023, 2023,\n",
      "       2023, 2023, 2023, 2023, 2023, 2023, 2023, 2023, 2023, 2023, 2023,\n",
      "       2023, 2023, 2023, 2023, 2023, 2023, 2023, 2023, 2023, 2023, 2023,\n",
      "       2023, 2023, 2023, 2023, 2023, 2023, 2023, 2023, 2023, 2023, 2023,\n",
      "       2023, 2023, 2023, 2023, 2023, 2023, 2023, 2023, 2023, 2023, 2023,\n",
      "       2023, 2023, 2023, 2023, 2023, 2023, 2023, 2023, 2023, 2023, 2023,\n",
      "       2023, 2023, 2023, 2023, 2023, 2023, 2023, 2023, 2023, 2023, 2023,\n",
      "       2023, 2023, 2023, 2023, 2023, 2023, 2023, 2023, 2023, 2023, 2023,\n",
      "       2023, 2023, 2023, 2023, 2023, 2023, 2023, 2023, 2023, 2023, 2023,\n",
      "       2023, 2023, 2023, 2023, 2023, 2023, 2023, 2023, 2023, 2023, 2023,\n",
      "       2023, 2023, 2023, 2023, 2023, 2023, 2023, 2023, 2023, 2023, 2023,\n",
      "       2023, 2023, 2023, 2023, 2023, 2023, 2023, 2023, 2023, 2023, 2023,\n",
      "       2023, 2023, 2023, 2023, 2023, 2023, 2023, 2023, 2023, 2023, 2023,\n",
      "       2023, 2023, 2023, 2023, 2023, 2023, 2023, 2023, 2023, 2023, 2023,\n",
      "       2023, 2023, 2023, 2023, 2023, 2023, 2023, 2023, 2023, 2023, 2023,\n",
      "       2023, 2023, 2023, 2023, 2023, 2023, 2023, 2023, 2023, 2023, 2023,\n",
      "       2023, 2023, 2023, 2023, 2023, 2023, 2023, 2023, 2023, 2023, 2023,\n",
      "       2023, 2023, 2023, 2023, 2023, 2023, 2023, 2023, 2023, 2023, 2023,\n",
      "       2023, 2023, 2023, 2023, 2023, 2023, 2023, 2023, 2023, 2023, 2023,\n",
      "       2023, 2023, 2023, 2023, 2023, 2023, 2023, 2023, 2023, 2023, 2023,\n",
      "       2023, 2023, 2023, 2023, 2023, 2023, 2023, 2023, 2023, 2023, 2023,\n",
      "       2023, 2023, 2023, 2023, 2023, 2023, 2023, 2023, 2023, 2023, 2023,\n",
      "       2023, 2023, 2023, 2023, 2023, 2023, 2023, 2023, 2023, 2023, 2023,\n",
      "       2023, 2023, 2023, 2023, 2023, 2023, 2023, 2023, 2023, 2023, 2023,\n",
      "       2023, 2023, 2023, 2023, 2023, 2023, 2023, 2023, 2023, 2023, 2023,\n",
      "       2023, 2023, 2023, 2023, 2023, 2023, 2023, 2023, 2023, 2023, 2023,\n",
      "       2023, 2023, 2023, 2023])}\n",
      "13/13 [==============================] - 0s 1ms/step\n"
     ]
    }
   ],
   "source": [
    "# Predictions to compare to real\n",
    "\n",
    "days_to_predict = 400\n",
    "sample2 = {name:values[8768:8768+days_to_predict] for name, values in temp_features_dict.items()}\n",
    "\n",
    "sample2['Year'] = np.array([2023 for a in range(days_to_predict)])\n",
    "\n",
    "#print(type(temp_labels.array))\n",
    "\n",
    "labels_2019 = temp_labels.array[8768-2:8768-2+days_to_predict]\n",
    "#print(labels_2019)\n",
    "\n",
    "# not really sure why these are 2 off ?\n",
    "#labels_2018 = temp_labels.array[9133-2:9133-2+days_to_predict]\n",
    "#print(labels_2018)\n",
    "\n",
    "\n",
    "print(sample2)\n",
    "\n",
    "predictions = temp_model.predict(sample2)"
   ]
  },
  {
   "cell_type": "code",
   "execution_count": 363,
   "metadata": {},
   "outputs": [
    {
     "name": "stdout",
     "output_type": "stream",
     "text": [
      "1/1 [==============================] - 0s 9ms/step\n",
      "[[38.225918]\n",
      " [38.225918]\n",
      " [38.225918]\n",
      " [38.225918]\n",
      " [38.225918]\n",
      " [38.225918]\n",
      " [38.225918]\n",
      " [38.225918]\n",
      " [38.225918]\n",
      " [38.225918]]\n"
     ]
    }
   ],
   "source": [
    "# Basic predictions\n",
    "\n",
    "# Richmond,1,5,2008,36.6\n",
    "sample = {\n",
    "    'City': np.array(['Richmond'], dtype='object'),\n",
    "    'Month': np.array([12]),\n",
    "    'Day': np.array([20]),\n",
    "    'Year': np.array([2022])\n",
    "}\n",
    "\n",
    "sample2 = {name:values[:10] for name, values in temp_features_dict.items()}\n",
    "\n",
    "#print(sample)\n",
    "#print(sample2)\n",
    "#print(temp_features_dict)\n",
    "\n",
    "predictions = temp_model.predict(sample2)\n",
    "print(predictions)\n",
    "# For Richmond,1,5,2008 it predicts 37 when the value was 36.6!\n",
    "# For yesterday, 3 years beyond any data it has, in Richmond it predicts 67 when it was 53-75 - average: 64. Not bad!"
   ]
  },
  {
   "attachments": {},
   "cell_type": "markdown",
   "metadata": {},
   "source": [
    "Next:\n",
    "* Create a csv of dates from YTD 2023\n",
    "* Get high/low or avg temps from YTD and put in csv\n",
    "* Run predict on all of the 2023 dates\n",
    "* Plot the predicted vs actual temps\n",
    "* See how smart it is - does it shift depending on season?\n",
    "    * Roughly it does seem to. But I'm curious how low it goes. Does it hover around the mean? Maybe that's the right thing\n",
    "    * How would I encourage it to veer more wildly?"
   ]
  },
  {
   "cell_type": "code",
   "execution_count": 358,
   "metadata": {},
   "outputs": [
    {
     "data": {
      "text/html": [
       "<div>\n",
       "<style scoped>\n",
       "    .dataframe tbody tr th:only-of-type {\n",
       "        vertical-align: middle;\n",
       "    }\n",
       "\n",
       "    .dataframe tbody tr th {\n",
       "        vertical-align: top;\n",
       "    }\n",
       "\n",
       "    .dataframe thead th {\n",
       "        text-align: right;\n",
       "    }\n",
       "</style>\n",
       "<table border=\"1\" class=\"dataframe\">\n",
       "  <thead>\n",
       "    <tr style=\"text-align: right;\">\n",
       "      <th></th>\n",
       "      <th>datetime</th>\n",
       "      <th>temp</th>\n",
       "    </tr>\n",
       "  </thead>\n",
       "  <tbody>\n",
       "    <tr>\n",
       "      <th>0</th>\n",
       "      <td>2023-01-01</td>\n",
       "      <td>55.8</td>\n",
       "    </tr>\n",
       "    <tr>\n",
       "      <th>1</th>\n",
       "      <td>2023-01-02</td>\n",
       "      <td>56.0</td>\n",
       "    </tr>\n",
       "    <tr>\n",
       "      <th>2</th>\n",
       "      <td>2023-01-03</td>\n",
       "      <td>61.6</td>\n",
       "    </tr>\n",
       "    <tr>\n",
       "      <th>3</th>\n",
       "      <td>2023-01-04</td>\n",
       "      <td>67.1</td>\n",
       "    </tr>\n",
       "    <tr>\n",
       "      <th>4</th>\n",
       "      <td>2023-01-05</td>\n",
       "      <td>60.3</td>\n",
       "    </tr>\n",
       "    <tr>\n",
       "      <th>...</th>\n",
       "      <td>...</td>\n",
       "      <td>...</td>\n",
       "    </tr>\n",
       "    <tr>\n",
       "      <th>124</th>\n",
       "      <td>2023-05-05</td>\n",
       "      <td>59.1</td>\n",
       "    </tr>\n",
       "    <tr>\n",
       "      <th>125</th>\n",
       "      <td>2023-05-06</td>\n",
       "      <td>62.6</td>\n",
       "    </tr>\n",
       "    <tr>\n",
       "      <th>126</th>\n",
       "      <td>2023-05-07</td>\n",
       "      <td>69.4</td>\n",
       "    </tr>\n",
       "    <tr>\n",
       "      <th>127</th>\n",
       "      <td>2023-05-08</td>\n",
       "      <td>74.0</td>\n",
       "    </tr>\n",
       "    <tr>\n",
       "      <th>128</th>\n",
       "      <td>2023-05-09</td>\n",
       "      <td>67.9</td>\n",
       "    </tr>\n",
       "  </tbody>\n",
       "</table>\n",
       "<p>129 rows × 2 columns</p>\n",
       "</div>"
      ],
      "text/plain": [
       "       datetime  temp\n",
       "0    2023-01-01  55.8\n",
       "1    2023-01-02  56.0\n",
       "2    2023-01-03  61.6\n",
       "3    2023-01-04  67.1\n",
       "4    2023-01-05  60.3\n",
       "..          ...   ...\n",
       "124  2023-05-05  59.1\n",
       "125  2023-05-06  62.6\n",
       "126  2023-05-07  69.4\n",
       "127  2023-05-08  74.0\n",
       "128  2023-05-09  67.9\n",
       "\n",
       "[129 rows x 2 columns]"
      ]
     },
     "execution_count": 358,
     "metadata": {},
     "output_type": "execute_result"
    }
   ],
   "source": [
    "# load 2023 temps\n",
    "csv_file_23 = './norfolk_temps_2023.csv'\n",
    "dataframe_23 = pd.read_csv(csv_file_23)\n",
    "dataframe_23.drop(['name', 'tempmax', 'tempmin', 'feelslikemax', 'feelslikemin', 'feelslike', 'dew', 'humidity', 'precip', 'precipprob', 'precipcover', 'preciptype', 'snow', 'snowdepth', 'windgust', 'windspeed', 'winddir', 'sealevelpressure', 'cloudcover', 'visibility', 'solarradiation', 'solarenergy', 'uvindex', 'severerisk', 'sunrise', 'sunset', 'moonphase', 'conditions', 'description', 'icon', 'stations'], axis=1)\n",
    "#dataframe_23['datetime']= pd.to_datetime(dataframe_23['datetime'],format='%Y-%m-%d')\n",
    "#dataframe_23['Day'] = dataframe_23['datetime'].dt.day\n",
    "#dataframe_23['Month'] = dataframe_23['datetime'].dt.month\n",
    "#dataframe_23['Year'] = dataframe_23['datetime'].dt.year"
   ]
  },
  {
   "cell_type": "code",
   "execution_count": 420,
   "metadata": {},
   "outputs": [
    {
     "data": {
      "image/png": "[encoded data removed]",
      "text/plain": [
       "<Figure size 640x480 with 1 Axes>"
      ]
     },
     "metadata": {},
     "output_type": "display_data"
    }
   ],
   "source": [
    "def plot_predictions():\n",
    "  plt.plot(predictions, label='2023 predictions')\n",
    "  #plt.plot(labels_2019, label='2019 actual')\n",
    "  #plt.plot(dataframe_23['temp'], label='2023 actual')\n",
    "  plt.ylim([0, 100])\n",
    "  plt.xlabel('Day')\n",
    "  plt.ylabel('AvgTemp')\n",
    "  plt.legend()\n",
    "  plt.grid(True)\n",
    "\n",
    "plot_predictions()"
   ]
  },
  {
   "cell_type": "code",
   "execution_count": 394,
   "metadata": {},
   "outputs": [
    {
     "name": "stdout",
     "output_type": "stream",
     "text": [
      "[[ 0.14355636]\n",
      " [ 5.2409606 ]\n",
      " [ 8.380218  ]\n",
      " [15.96589   ]\n",
      " [25.258469  ]\n",
      " [33.30186   ]\n",
      " [42.234203  ]\n",
      " [45.695255  ]\n",
      " [44.61914   ]\n",
      " [38.566505  ]\n",
      " [28.563244  ]\n",
      " [16.659243  ]\n",
      " [ 9.713721  ]]\n",
      "(13, 1)\n",
      "[32.98496]\n",
      "(1,)\n",
      "Model: \"model_37\"\n",
      "_________________________________________________________________\n",
      " Layer (type)                Output Shape              Param #   \n",
      "=================================================================\n",
      " Month (InputLayer)          [(None, 1)]               0         \n",
      "                                                                 \n",
      " model_34 (Functional)       (None, 13)                0         \n",
      "                                                                 \n",
      " sequential_27 (Sequential)  (None, 1)                 14        \n",
      "                                                                 \n",
      "=================================================================\n",
      "Total params: 14\n",
      "Trainable params: 14\n",
      "Non-trainable params: 0\n",
      "_________________________________________________________________\n"
     ]
    }
   ],
   "source": [
    "weights = temp_model.get_weights()\n",
    "#print(len(weights))\n",
    "#print(weights[1])\n",
    "\n",
    "for i in range(len(weights)):\n",
    "    print(weights[i])\n",
    "    print(weights[i].shape)\n",
    "temp_model.summary()"
   ]
  }
 ],
 "metadata": {
  "kernelspec": {
   "display_name": "Python 3",
   "language": "python",
   "name": "python3"
  },
  "language_info": {
   "codemirror_mode": {
    "name": "ipython",
    "version": 3
   },
   "file_extension": ".py",
   "mimetype": "text/x-python",
   "name": "python",
   "nbconvert_exporter": "python",
   "pygments_lexer": "ipython3",
   "version": "3.10.6"
  },
  "orig_nbformat": 4,
  "vscode": {
   "interpreter": {
    "hash": "916dbcbb3f70747c44a77c7bcd40155683ae19c65e1c03b4aa3499c5328201f1"
   }
  }
 },
 "nbformat": 4,
 "nbformat_minor": 2
}
